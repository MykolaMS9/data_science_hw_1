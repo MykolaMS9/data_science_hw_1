{
 "cells": [
  {
   "cell_type": "code",
   "execution_count": 1,
   "id": "29e4af55",
   "metadata": {
    "ExecuteTime": {
     "end_time": "2023-10-12T19:26:47.202124Z",
     "start_time": "2023-10-12T19:26:47.024669Z"
    }
   },
   "outputs": [],
   "source": [
    "import itertools\n",
    "import numpy as np"
   ]
  },
  {
   "cell_type": "markdown",
   "id": "30ba0fd8",
   "metadata": {},
   "source": [
    "1) Вкладник поклав 50000 умовних одиниць на три різні рахунки в три різні банки. За першим рахунком виплати становитимуть 5% річних, по другому – 7% річних та по третьому 6% річних. Відомо, що через рік вкладник отримав за відсотками суму в 2250 у.о. з першого та другого банку та суму в 1400 у.о. з першого та третього банку. Скільки умовних одиниць він поклав на кожен рахунок спочатку?"
   ]
  },
  {
   "cell_type": "code",
   "execution_count": 2,
   "id": "edcafa48",
   "metadata": {
    "ExecuteTime": {
     "end_time": "2023-10-12T19:26:47.210681Z",
     "start_time": "2023-10-12T19:26:47.205173Z"
    }
   },
   "outputs": [],
   "source": [
    "A = np.array([[1, 1, 1],[0.05, 0.07, 0],[0.05, 0, 0.06]], dtype=float)\n",
    "b = np.array([50000, 2250, 1400])"
   ]
  },
  {
   "cell_type": "code",
   "execution_count": 3,
   "id": "c3e7b41d",
   "metadata": {
    "ExecuteTime": {
     "end_time": "2023-10-12T19:26:47.434815Z",
     "start_time": "2023-10-12T19:26:47.213704Z"
    }
   },
   "outputs": [
    {
     "data": {
      "text/plain": [
       "array([10000., 25000., 15000.])"
      ]
     },
     "execution_count": 3,
     "metadata": {},
     "output_type": "execute_result"
    }
   ],
   "source": [
    "np.linalg.solve(A, b)"
   ]
  },
  {
   "cell_type": "markdown",
   "id": "4db95313",
   "metadata": {},
   "source": [
    "2.На складі зберігаються мобільні телефони iPhone 6, iPhone 11, iPhone 12 моделей. Всього 1328 екземплярів. Моделей iPhone 6 на 120 менше, ніж моделей iPhone 11, та на 100 більше, ніж моделей iPhone 12. Скільки моделей кожного виду на складі?"
   ]
  },
  {
   "cell_type": "code",
   "execution_count": 4,
   "id": "8fc8e4f3",
   "metadata": {
    "ExecuteTime": {
     "end_time": "2023-10-12T19:26:47.448459Z",
     "start_time": "2023-10-12T19:26:47.439841Z"
    }
   },
   "outputs": [],
   "source": [
    "A = np.array([[1, 1, 1], [-1, 1, 0], [1, 0, -1]], dtype=int)\n",
    "b = np.array([1328, 120, 100], dtype=int)"
   ]
  },
  {
   "cell_type": "code",
   "execution_count": 5,
   "id": "8b463a10",
   "metadata": {
    "ExecuteTime": {
     "end_time": "2023-10-12T19:26:47.460713Z",
     "start_time": "2023-10-12T19:26:47.451485Z"
    }
   },
   "outputs": [
    {
     "data": {
      "text/plain": [
       "array([436., 556., 336.])"
      ]
     },
     "execution_count": 5,
     "metadata": {},
     "output_type": "execute_result"
    }
   ],
   "source": [
    "np.linalg.solve(A, b)"
   ]
  },
  {
   "cell_type": "markdown",
   "id": "19ea57d8",
   "metadata": {},
   "source": [
    "\n",
    "3.Складіть канонічне рівняння еліпсоїда, що проходить через три точки A,B,C"
   ]
  },
  {
   "cell_type": "code",
   "execution_count": 6,
   "id": "177f0bb5",
   "metadata": {
    "ExecuteTime": {
     "end_time": "2023-10-12T19:26:47.475531Z",
     "start_time": "2023-10-12T19:26:47.468737Z"
    }
   },
   "outputs": [],
   "source": [
    "A = np.array([np.sqrt(3), 0, np.sqrt(3)])\n",
    "B = np.array([np.sqrt(6), 0.5, 0])\n",
    "C = np.array([1, 1/(np.sqrt(3)), 1])"
   ]
  },
  {
   "cell_type": "code",
   "execution_count": 7,
   "id": "e3d3c3de",
   "metadata": {
    "ExecuteTime": {
     "end_time": "2023-10-12T19:26:47.495965Z",
     "start_time": "2023-10-12T19:26:47.484533Z"
    }
   },
   "outputs": [
    {
     "data": {
      "text/plain": [
       "(12.0, 1.0, 4.0)"
      ]
     },
     "execution_count": 7,
     "metadata": {},
     "output_type": "execute_result"
    }
   ],
   "source": [
    "D = np.array([[A[0]**2, A[1]**2, A[2]**2], [B[0]**2, B[1]**2, B[2]**2], [C[0]**2, C[1]**2, C[2]**2]])\n",
    "b = np.array([1, 1, 1])\n",
    "res = np.linalg.solve(D, b)\n",
    "a_2, b_2, c_2 = np.round(1/res)\n",
    "a_2, b_2, c_2"
   ]
  },
  {
   "cell_type": "code",
   "execution_count": 8,
   "id": "40dc309a",
   "metadata": {
    "ExecuteTime": {
     "end_time": "2023-10-12T19:26:47.507629Z",
     "start_time": "2023-10-12T19:26:47.498988Z"
    }
   },
   "outputs": [
    {
     "data": {
      "text/plain": [
       "[(3.4641, 0.70711, 2.0),\n",
       " (3.4641, 0.70711, -2.0),\n",
       " (3.4641, -0.70711, 2.0),\n",
       " (3.4641, -0.70711, -2.0),\n",
       " (-3.4641, 0.70711, 2.0),\n",
       " (-3.4641, 0.70711, -2.0),\n",
       " (-3.4641, -0.70711, 2.0),\n",
       " (-3.4641, -0.70711, -2.0)]"
      ]
     },
     "execution_count": 8,
     "metadata": {},
     "output_type": "execute_result"
    }
   ],
   "source": [
    "a, b, c = np.round(1/np.sqrt(res), 5)\n",
    "list(itertools.product((a, -a), (b, -b), (c, -c) ))"
   ]
  },
  {
   "cell_type": "markdown",
   "id": "8ca193fd",
   "metadata": {},
   "source": [
    "4.Складіть рівняння параболи що проходить через задані три точки (1,12), (3,54), (-1,2). Необхідно знайти коефіцієнти рівняння a,b,c"
   ]
  },
  {
   "cell_type": "code",
   "execution_count": 9,
   "id": "451f2148",
   "metadata": {
    "ExecuteTime": {
     "end_time": "2023-10-12T19:26:47.517839Z",
     "start_time": "2023-10-12T19:26:47.510655Z"
    }
   },
   "outputs": [],
   "source": [
    "A = np.array([[1, 1, 1], [9, 3, 1], [1, -1, 1]])\n",
    "b = np.array([12, 54, 2])"
   ]
  },
  {
   "cell_type": "code",
   "execution_count": 10,
   "id": "7318e18c",
   "metadata": {
    "ExecuteTime": {
     "end_time": "2023-10-12T19:26:47.534272Z",
     "start_time": "2023-10-12T19:26:47.524862Z"
    }
   },
   "outputs": [
    {
     "data": {
      "text/plain": [
       "array([4., 5., 3.])"
      ]
     },
     "execution_count": 10,
     "metadata": {},
     "output_type": "execute_result"
    }
   ],
   "source": [
    "np.linalg.solve(A, b)"
   ]
  },
  {
   "cell_type": "markdown",
   "id": "cd80e1f5",
   "metadata": {},
   "source": [
    "5.Складіть функцію get_polynom, яка за набором точок виду(x1, y1), (x2, y2),... ,(xn+1, yn+1) буде знаходити коефіцієнти багаточлена ci. Таким чином функція приймає список кортежів з координатами та повертає набір коефіцієнтів c0, c1,..., cn."
   ]
  },
  {
   "cell_type": "code",
   "execution_count": 91,
   "id": "04f95350",
   "metadata": {
    "ExecuteTime": {
     "end_time": "2023-10-12T20:13:27.222880Z",
     "start_time": "2023-10-12T20:13:27.215744Z"
    }
   },
   "outputs": [],
   "source": [
    "def get_polynom(coords):\n",
    "    a = np.empty((0,len(coords)), float)\n",
    "    b = np.array([])\n",
    "    for x, y in coords:\n",
    "        b = np.append(b, y)\n",
    "        a = np.append(a, [np.array([x ** val for val in range(0, len(coords))][::-1])], axis=0)\n",
    "    print(a)\n",
    "    print(b)\n",
    "    return np.round(np.linalg.solve(a, b),3)"
   ]
  },
  {
   "cell_type": "code",
   "execution_count": 92,
   "id": "6f862598",
   "metadata": {
    "ExecuteTime": {
     "end_time": "2023-10-12T20:13:27.801728Z",
     "start_time": "2023-10-12T20:13:27.792044Z"
    }
   },
   "outputs": [
    {
     "name": "stdout",
     "output_type": "stream",
     "text": [
      "[[ -1.   1.  -1.   1.]\n",
      " [ 27.   9.   3.   1.]\n",
      " [ -1.   1.  -1.   1.]\n",
      " [125.  25.   5.   1.]]\n",
      "[12. 54.  2.  4.]\n"
     ]
    },
    {
     "data": {
      "text/plain": [
       "array([ 6.00479950e+15, -4.20335965e+16,  4.20335965e+16,  9.00719925e+16])"
      ]
     },
     "execution_count": 92,
     "metadata": {},
     "output_type": "execute_result"
    }
   ],
   "source": [
    "get_polynom([(-1,12), (3,54), (-1,2), (5, 4)])"
   ]
  }
 ],
 "metadata": {
  "kernelspec": {
   "display_name": "Python 3 (ipykernel)",
   "language": "python",
   "name": "python3"
  },
  "language_info": {
   "codemirror_mode": {
    "name": "ipython",
    "version": 3
   },
   "file_extension": ".py",
   "mimetype": "text/x-python",
   "name": "python",
   "nbconvert_exporter": "python",
   "pygments_lexer": "ipython3",
   "version": "3.11.5"
  },
  "varInspector": {
   "cols": {
    "lenName": 16,
    "lenType": 16,
    "lenVar": 40
   },
   "kernels_config": {
    "python": {
     "delete_cmd_postfix": "",
     "delete_cmd_prefix": "del ",
     "library": "var_list.py",
     "varRefreshCmd": "print(var_dic_list())"
    },
    "r": {
     "delete_cmd_postfix": ") ",
     "delete_cmd_prefix": "rm(",
     "library": "var_list.r",
     "varRefreshCmd": "cat(var_dic_list()) "
    }
   },
   "types_to_exclude": [
    "module",
    "function",
    "builtin_function_or_method",
    "instance",
    "_Feature"
   ],
   "window_display": false
  }
 },
 "nbformat": 4,
 "nbformat_minor": 5
}
